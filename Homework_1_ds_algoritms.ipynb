{
 "cells": [
  {
   "cell_type": "markdown",
   "id": "abd1ca43",
   "metadata": {},
   "source": [
    "Задача: предсказание баллов ЕГЭ ученика в зависимости от количества лет стажа репетитора. "
   ]
  },
  {
   "cell_type": "code",
   "execution_count": 1,
   "id": "335984e8",
   "metadata": {},
   "outputs": [],
   "source": [
    "import numpy as np\n",
    "import matplotlib.pyplot as plt"
   ]
  },
  {
   "cell_type": "code",
   "execution_count": 2,
   "id": "6f9651bb",
   "metadata": {},
   "outputs": [
    {
     "data": {
      "text/plain": [
       "array([[ 1,  1,  1,  1,  1,  1,  1,  1,  1,  1],\n",
       "       [ 1,  1,  2,  5,  3,  0,  5, 10,  1,  2]])"
      ]
     },
     "execution_count": 2,
     "metadata": {},
     "output_type": "execute_result"
    }
   ],
   "source": [
    "X = np.array([[1, 1, 1, 1, 1, 1, 1, 1, 1, 1],\n",
    "              [1, 1, 2, 5, 3, 0, 5, 10, 1, 2]])\n",
    "X"
   ]
  },
  {
   "cell_type": "code",
   "execution_count": 3,
   "id": "5445cfba",
   "metadata": {},
   "outputs": [
    {
     "data": {
      "text/plain": [
       "(2, 10)"
      ]
     },
     "execution_count": 3,
     "metadata": {},
     "output_type": "execute_result"
    }
   ],
   "source": [
    "X.shape"
   ]
  },
  {
   "cell_type": "code",
   "execution_count": 4,
   "id": "babf93db",
   "metadata": {},
   "outputs": [],
   "source": [
    "y = [45, 55, 50, 55, 60, 35, 75, 80, 50, 60]"
   ]
  },
  {
   "cell_type": "markdown",
   "id": "d419a464",
   "metadata": {},
   "source": [
    "Метод наименьших квадратов (МНК)"
   ]
  },
  {
   "cell_type": "code",
   "execution_count": 5,
   "id": "765572b6",
   "metadata": {},
   "outputs": [
    {
     "data": {
      "text/plain": [
       "(10, 2)"
      ]
     },
     "execution_count": 5,
     "metadata": {},
     "output_type": "execute_result"
    }
   ],
   "source": [
    "X.T.shape"
   ]
  },
  {
   "cell_type": "code",
   "execution_count": 6,
   "id": "36a720c2",
   "metadata": {},
   "outputs": [
    {
     "data": {
      "text/plain": [
       "True"
      ]
     },
     "execution_count": 6,
     "metadata": {},
     "output_type": "execute_result"
    }
   ],
   "source": [
    "all(X @ y == np.dot(X,y))"
   ]
  },
  {
   "cell_type": "code",
   "execution_count": 7,
   "id": "a4d7e3e3",
   "metadata": {},
   "outputs": [
    {
     "data": {
      "text/plain": [
       "array([45.0625,  3.8125])"
      ]
     },
     "execution_count": 7,
     "metadata": {},
     "output_type": "execute_result"
    }
   ],
   "source": [
    "W = np.linalg.inv(np.dot(X, X.T)) @ X @ y\n",
    "W"
   ]
  },
  {
   "cell_type": "code",
   "execution_count": 8,
   "id": "4adf5dfb",
   "metadata": {},
   "outputs": [],
   "source": [
    "y_pred3 = W[0] * X[0] + W[1] * X[1]\n"
   ]
  },
  {
   "cell_type": "code",
   "execution_count": 9,
   "id": "1da8301a",
   "metadata": {},
   "outputs": [
    {
     "data": {
      "image/png": "[encoded data removed]",
      "text/plain": [
       "<Figure size 640x480 with 1 Axes>"
      ]
     },
     "metadata": {},
     "output_type": "display_data"
    }
   ],
   "source": [
    "plt.scatter(X[1], y)\n",
    "plt.plot(X[1], y_pred3, label='analytical solution')\n",
    "plt.legend()\n",
    "plt.show()"
   ]
  },
  {
   "cell_type": "code",
   "execution_count": 10,
   "id": "d2e4cf59",
   "metadata": {},
   "outputs": [],
   "source": [
    "def calc_mae(y, y_pred):\n",
    "    err = np.mean(np.abs(y - y_pred))\n",
    "    return err\n",
    "\n",
    "def calc_mse(y, y_pred):\n",
    "    err = np.mean((y - y_pred)**2) # <=> 1/n * np.sum((y_pred - y)**2)\n",
    "    return err"
   ]
  },
  {
   "cell_type": "code",
   "execution_count": 11,
   "id": "7f7b5fd0",
   "metadata": {},
   "outputs": [
    {
     "data": {
      "text/plain": [
       "(5.7875, 43.96875000000001)"
      ]
     },
     "execution_count": 11,
     "metadata": {},
     "output_type": "execute_result"
    }
   ],
   "source": [
    "calc_mae(y, y_pred3), calc_mse(y, y_pred3)"
   ]
  },
  {
   "cell_type": "markdown",
   "id": "35552db2",
   "metadata": {},
   "source": [
    "Градиентный спуск"
   ]
  },
  {
   "cell_type": "code",
   "execution_count": 12,
   "id": "3c64a413",
   "metadata": {},
   "outputs": [],
   "source": [
    "n = 10\n",
    "Q = 1/n * np.sum((y_pred3 - y)**2) # функционал ошибки, y = X*w"
   ]
  },
  {
   "cell_type": "code",
   "execution_count": 13,
   "id": "eff72c2b",
   "metadata": {},
   "outputs": [],
   "source": [
    "alpha = 1e-2 # величина шага\n",
    "g = alpha * (1/n * 2 * np.sum(X[0] * (W[0] * X[0] - y)))"
   ]
  },
  {
   "cell_type": "code",
   "execution_count": 14,
   "id": "fc4356f9",
   "metadata": {},
   "outputs": [
    {
     "data": {
      "text/plain": [
       "(45.062500000000014, 45.29125000000001)"
      ]
     },
     "execution_count": 14,
     "metadata": {},
     "output_type": "execute_result"
    }
   ],
   "source": [
    "W[0], W[0] - g"
   ]
  },
  {
   "cell_type": "markdown",
   "id": "ebd788e5",
   "metadata": {},
   "source": [
    "# Практическое задание"
   ]
  },
  {
   "cell_type": "markdown",
   "id": "b407e974",
   "metadata": {},
   "source": [
    "1. Подберите скорость обучения (alpha) и количество итераций."
   ]
  },
  {
   "cell_type": "code",
   "execution_count": 15,
   "id": "8047be6e",
   "metadata": {},
   "outputs": [
    {
     "name": "stdout",
     "output_type": "stream",
     "text": [
      "Number of objects = 10        \n",
      "Learning rate = 0.01        \n",
      "Initial weights = [1.  0.5] \n",
      "\n",
      "Iteration #0: W_new = [2.08 4.27], MSE = 3047.75\n",
      "Iteration #10: W_new = [ 6.67106886 10.61676385], MSE = 749.71\n",
      "Iteration #20: W_new = [ 9.49320908 10.25731657], MSE = 648.91\n",
      "Iteration #30: W_new = [11.85740092  9.83349244], MSE = 570.46\n",
      "Iteration #40: W_new = [13.86876921  9.46898661], MSE = 508.03\n",
      "Iteration #50: W_new = [15.59085668  9.15672679], MSE = 457.73\n",
      "Iteration #60: W_new = [17.07337653  8.88789585], MSE = 416.77\n",
      "Iteration #70: W_new = [18.35601294  8.65530964], MSE = 383.06\n",
      "Iteration #80: W_new = [19.47073522  8.45317196], MSE = 355.08\n",
      "Iteration #90: W_new = [20.44350656  8.27677488], MSE = 331.65\n"
     ]
    }
   ],
   "source": [
    "n = X.shape[1]\n",
    "alpha = 1e-2\n",
    "W = np.array([1, 0.5])\n",
    "print(f'Number of objects = {n} \\\n",
    "       \\nLearning rate = {alpha} \\\n",
    "       \\nInitial weights = {W} \\n')\n",
    "\n",
    "for i in range(100):\n",
    "    y_pred = np.dot(W, X)\n",
    "    err = calc_mse(y, y_pred)\n",
    "    for k in range(W.shape[0]):\n",
    "        W[k] -= alpha * (1/n * 2 * np.sum(X[k] * (y_pred - y)))\n",
    "    if i % 10 == 0:\n",
    "        alpha /= 1.1\n",
    "        print(f'Iteration #{i}: W_new = {W}, MSE = {round(err,2)}')"
   ]
  },
  {
   "cell_type": "markdown",
   "id": "0f9bb49f",
   "metadata": {},
   "source": [
    "Решение:"
   ]
  },
  {
   "cell_type": "code",
   "execution_count": 33,
   "id": "57c3adf1",
   "metadata": {},
   "outputs": [],
   "source": [
    "def find_good_alpha(X, y, alpha):\n",
    "    n = X.shape[1]\n",
    "    W = np.array([1, 0.5])\n",
    "    num_of_iter = 0\n",
    "    min_error = np.inf\n",
    "    error = 0\n",
    "    stop = True\n",
    "    while stop:\n",
    "        num_of_iter += 1\n",
    "        y_pred = W @ X\n",
    "        error = calc_mse(y, y_pred)\n",
    "        if min_error - error > 0.0:\n",
    "            min_error = error\n",
    "        else:\n",
    "            print(f'Количество итераций: {num_of_iter}, веса: {W}, среднеквадратичная ошибка: {min_error}')\n",
    "            stop = False\n",
    "        \n",
    "        for i in range(W.shape[0]):\n",
    "            W[i] -= alpha * (1/n * 2 * np.sum(X[i]*(y_pred - y)))\n",
    "        if num_of_iter % 100 ==0:\n",
    "            print(num_of_iter, W, error)\n",
    "    return W, min_error\n",
    "        \n",
    "    \n",
    "    \n",
    "    "
   ]
  },
  {
   "cell_type": "code",
   "execution_count": 39,
   "id": "9bcdc16a",
   "metadata": {
    "scrolled": true
   },
   "outputs": [
    {
     "name": "stdout",
     "output_type": "stream",
     "text": [
      "При значении alpha = 0.01:\n",
      "100 [28.22929764  6.86494171] 179.89501370640295\n",
      "200 [38.32845066  5.03361602] 65.72191623045093\n",
      "300 [42.36857287  4.30100215] 47.450051024147385\n",
      "400 [43.98480618  4.00792316] 44.525885301240166\n",
      "500 [44.63137328  3.89067818] 44.05791199482176\n",
      "600 [44.89002963  3.84377484] 43.98301917537428\n",
      "700 [44.99350398  3.82501136] 43.97103358917125\n",
      "800 [45.03489844  3.81750512] 43.969115457664245\n",
      "900 [45.05145812  3.81450228] 43.968808486572826\n",
      "1000 [45.05808274  3.813301  ] 43.96875935998757\n",
      "1100 [45.0607329   3.81282044] 43.968751497939834\n",
      "1200 [45.06179308  3.81262819] 43.96875023972508\n",
      "1300 [45.0622172   3.81255128] 43.96875003836477\n",
      "1400 [45.06238687  3.81252052] 43.96875000613976\n",
      "1500 [45.06245474  3.81250821] 43.96875000098258\n",
      "1600 [45.06248189  3.81250328] 43.96875000015726\n",
      "1700 [45.06249276  3.81250131] 43.96875000002515\n",
      "1800 [45.0624971   3.81250053] 43.968750000004036\n",
      "Количество итераций: 1886, веса: [45.06249867  3.81250024], среднеквадратичная ошибка: 43.96875000000084\n",
      "При значении alpha = 0.02:\n",
      "100 [38.385257    5.02331507] 65.75566028284818\n",
      "200 [44.00291167  4.00464001] 44.51737503139532\n",
      "300 [44.89435763  3.84299003] 43.9825651496089\n",
      "400 [45.03581808  3.81733836] 43.969097884890026\n",
      "500 [45.05826594  3.81326778] 43.968758760230635\n",
      "600 [45.06182811  3.81262184] 43.968750220594934\n",
      "700 [45.06239338  3.81251933] 43.968750005554895\n",
      "800 [45.06248308  3.81250307] 43.96875000013988\n",
      "900 [45.06249732  3.81250049] 43.96875000000353\n",
      "Количество итераций: 975, веса: [45.06249931  3.81250012], среднеквадратичная ошибка: 43.96875000000023\n",
      "При значении alpha = 0.03:\n",
      "100 [42.43659003  4.28866829] 47.401698547002084\n",
      "200 [44.89862886  3.8422155 ] 43.982119420104596\n",
      "300 [45.05227355  3.81435441] 43.96880206643546\n",
      "400 [45.06186181  3.81261573] 43.968750202769726\n",
      "500 [45.06246017  3.81250722] 43.968750000789676\n",
      "600 [45.06249751  3.81250045] 43.96875000000307\n",
      "Количество итераций: 645, веса: [45.06249927  3.81250013], среднеквадратичная ошибка: 43.968750000000256\n",
      "При значении alpha = 0.04:\n",
      "100 [44.03886746  3.99811998] 44.50034209024168\n",
      "200 [45.03759819  3.81701556] 43.969064595341464\n",
      "300 [45.06189422  3.81260985] 43.96875018617701\n",
      "400 [45.06248526  3.81250267] 43.96875000011018\n",
      "Количество итераций: 487, веса: [45.0624994   3.81250011], среднеквадратичная ошибка: 43.968750000000185\n",
      "При значении alpha = 0.05:\n",
      "100 [44.66702658  3.88421301] 44.049619635762255\n",
      "200 [45.05878313  3.813174  ] 43.968757143412105\n",
      "300 [45.06246507  3.81250633] 43.96875000063098\n",
      "Количество итераций: 386, веса: [45.06249934  3.81250012], среднеквадратичная ошибка: 43.96875000000021\n",
      "При значении alpha = 0.06:\n",
      "Количество итераций: 2, веса: [ 7.48 23.12], среднеквадратичная ошибка: 3047.75\n",
      "При значении alpha = 0.07:\n",
      "Количество итераций: 2, веса: [ 8.56 26.89], среднеквадратичная ошибка: 3047.75\n",
      "При значении alpha = 0.08:\n",
      "Количество итераций: 2, веса: [ 9.64 30.66], среднеквадратичная ошибка: 3047.75\n",
      "При значении alpha = 0.09:\n",
      "Количество итераций: 2, веса: [10.72 34.43], среднеквадратичная ошибка: 3047.75\n"
     ]
    }
   ],
   "source": [
    "alpha = [0.01, 0.02, 0.03, 0.04, 0.05, 0.06, 0.07, 0.08, 0.09]\n",
    "for i in alpha:\n",
    "    print(f\"При значении alpha = {i}:\")\n",
    "    W, mse = find_good_alpha(X, y, i)"
   ]
  },
  {
   "cell_type": "markdown",
   "id": "07e93e39",
   "metadata": {},
   "source": [
    "Получаем самое минимальное значение mse = 43.96875000000084 было получено за 1886 итераций при alpha = 0.01.\n",
    "Но при alpha = 0.05, mse = 43.96875000000021, что очень близко по значению, \n",
    "но с гораздо меньшим количеством итераций, а именно 386. Поэтому можно считать, \n",
    "что alpha = 0.05 является оптимальным значением."
   ]
  },
  {
   "cell_type": "markdown",
   "id": "b43cfbd1",
   "metadata": {},
   "source": [
    "*2. В этом коде мы избавляемся от итераций по весам, но здесь есть ошибка, исправьте её."
   ]
  },
  {
   "cell_type": "code",
   "execution_count": 40,
   "id": "422a4b32",
   "metadata": {},
   "outputs": [
    {
     "name": "stdout",
     "output_type": "stream",
     "text": [
      "Number of objects = 10        \n",
      "Learning rate = 0.01        \n",
      "Initial weights = [1.  0.5] \n",
      "\n",
      "Iteration #0: W_new = [5.85 5.35], MSE = 3047.75\n",
      "Iteration #10: W_new = [11.0965715 10.5965715], MSE = 597.49\n",
      "Iteration #20: W_new = [11.10415569 10.60415569], MSE = 597.49\n",
      "Iteration #30: W_new = [11.10416665 10.60416665], MSE = 597.49\n",
      "Iteration #40: W_new = [11.10416667 10.60416667], MSE = 597.49\n",
      "Iteration #50: W_new = [11.10416667 10.60416667], MSE = 597.49\n",
      "Iteration #60: W_new = [11.10416667 10.60416667], MSE = 597.49\n",
      "Iteration #70: W_new = [11.10416667 10.60416667], MSE = 597.49\n",
      "Iteration #80: W_new = [11.10416667 10.60416667], MSE = 597.49\n",
      "Iteration #90: W_new = [11.10416667 10.60416667], MSE = 597.49\n"
     ]
    }
   ],
   "source": [
    "# Исходный код задания \n",
    "n = X.shape[1]\n",
    "alpha = 1e-2\n",
    "W = np.array([1, 0.5])\n",
    "print(f'Number of objects = {n} \\\n",
    "       \\nLearning rate = {alpha} \\\n",
    "       \\nInitial weights = {W} \\n')\n",
    "\n",
    "for i in range(100):\n",
    "    y_pred = np.dot(W, X)\n",
    "    err = calc_mse(y, y_pred)\n",
    "#     for k in range(W.shape[0]):\n",
    "#         W[k] -= alpha * (1/n * 2 * np.sum(X[k] * (y_pred - y)))\n",
    "    W -= alpha * (1/n * 2 * np.sum(X * (y_pred - y)))\n",
    "    W_pred = W\n",
    "    if i % 10 == 0:\n",
    "        print(f'Iteration #{i}: W_new = {W}, MSE = {round(err,2)}')"
   ]
  },
  {
   "cell_type": "markdown",
   "id": "ce53ed65",
   "metadata": {},
   "source": [
    "Исправление ошибки"
   ]
  },
  {
   "cell_type": "code",
   "execution_count": 44,
   "id": "732532bd",
   "metadata": {},
   "outputs": [
    {
     "name": "stdout",
     "output_type": "stream",
     "text": [
      "Number of objects = 10        \n",
      "Learning rate = 0.01        \n",
      "Initial weights = [1.  0.5] \n",
      "\n",
      "Iteration #0: W_new = [2.08 4.27], MSE = 3047.75\n",
      "Iteration #10: W_new = [ 7.0011236 10.6169007], MSE = 738.65\n",
      "Iteration #20: W_new = [10.3486292  10.10603105], MSE = 622.03\n",
      "Iteration #30: W_new = [13.38789582  9.55618391], MSE = 525.24\n",
      "Iteration #40: W_new = [16.16088505  9.05336203], MSE = 444.66\n",
      "Iteration #50: W_new = [18.69110735  8.59454545], MSE = 377.58\n",
      "Iteration #60: W_new = [20.99981865  8.17589626], MSE = 321.72\n",
      "Iteration #70: W_new = [23.10641138  7.79389815], MSE = 275.22\n",
      "Iteration #80: W_new = [25.02858024  7.44534246], MSE = 236.5\n",
      "Iteration #90: W_new = [26.78247081  7.12730145], MSE = 204.27\n"
     ]
    }
   ],
   "source": [
    "# Исправленный код \n",
    "n = X.shape[1]\n",
    "alpha = 1e-2\n",
    "W = np.array([1, 0.5])\n",
    "print(f'Number of objects = {n} \\\n",
    "       \\nLearning rate = {alpha} \\\n",
    "       \\nInitial weights = {W} \\n')\n",
    "\n",
    "for i in range(100):\n",
    "    y_pred = np.dot(W, X)\n",
    "    err = calc_mse(y, y_pred)\n",
    "#уберем строку с Wpred, так как она вообще не используется в коде и никак на него не влияет\n",
    "    W -= alpha * (1/n * 2 * np.sum(X * (y_pred - y), axis = 1))\n",
    "    if i % 10 == 0:\n",
    "        print(f'Iteration #{i}: W_new = {W}, MSE = {round(err,2)}')"
   ]
  },
  {
   "cell_type": "code",
   "execution_count": null,
   "id": "9f18d7fa",
   "metadata": {},
   "outputs": [],
   "source": []
  }
 ],
 "metadata": {
  "kernelspec": {
   "display_name": "Python 3 (ipykernel)",
   "language": "python",
   "name": "python3"
  },
  "language_info": {
   "codemirror_mode": {
    "name": "ipython",
    "version": 3
   },
   "file_extension": ".py",
   "mimetype": "text/x-python",
   "name": "python",
   "nbconvert_exporter": "python",
   "pygments_lexer": "ipython3",
   "version": "3.9.0"
  }
 },
 "nbformat": 4,
 "nbformat_minor": 5
}
